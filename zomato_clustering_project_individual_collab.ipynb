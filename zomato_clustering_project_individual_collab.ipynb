{
  "nbformat": 4,
  "nbformat_minor": 0,
  "metadata": {
    "colab": {
      "provenance": []
    },
    "kernelspec": {
      "name": "python3",
      "display_name": "Python 3"
    },
    "language_info": {
      "name": "python"
    }
  },
  "cells": [
    {
      "cell_type": "markdown",
      "source": [
        "\n",
        "# Project Name - Zomoto Restaurant Clustering and Sentiment Analysis"
      ],
      "metadata": {
        "id": "PRaWpFDm4NCi"
      }
    },
    {
      "cell_type": "markdown",
      "source": [
        "##### **Project Type**    - Unsupervised\n",
        "##### **Team Member 1     - Rubina Fathima** \n"
      ],
      "metadata": {
        "id": "rJZXOK-y4WrA"
      }
    },
    {
      "cell_type": "markdown",
      "source": [
        "# **Project Summary -**"
      ],
      "metadata": {
        "id": "xke2berQ4jct"
      }
    },
    {
      "cell_type": "markdown",
      "source": [
        "The \"Zomoto Restaurant Clustering and Sentiment Analysis\" project aims to analyze customer feedback for restaurants on the popular food delivery platform, Zomato. The main objectives of the project are two-fold:\n",
        "\n",
        "Restaurant Clustering: In this aspect, the project will use unsupervised machine learning techniques such as K-means clustering to group similar restaurants based on various features such as cuisine type, location, rating, and price range. This will help in better understanding the customer preferences and provide insights to restaurants for improving their offerings.\n",
        "\n",
        "Sentiment Analysis: The project will also perform sentiment analysis on customer reviews to determine their overall sentiment towards the restaurant. This information can help restaurants understand the customer's likes and dislikes and take necessary measures to improve customer satisfaction.\n",
        "\n",
        "The project will gather data from the Zomato API and pre-process it to remove irrelevant information. The processed data will then be used to perform clustering and sentiment analysis. The results of the analysis will be visualized using appropriate plots and charts for better understanding.\n",
        "\n",
        "This project will be a valuable resource for restaurants on Zomato as it will help them understand their customers better and make data-driven decisions to improve their offerings. It will also provide insights to customers by highlighting the strengths and weaknesses of restaurants in a particular location or cuisine type.\n",
        "\n",
        "In conclusion, the \"Zomoto Restaurant Clustering and Sentiment Analysis\" project is an innovative and practical solution to gather valuable insights from customer feedback on Zomato. The project will help restaurants to improve their offerings and provide a better customer experience, and also help customers in making informed decisions while choosing a restaurant.\n",
        "\n"
      ],
      "metadata": {
        "id": "hoqa_Cvn4pQZ"
      }
    },
    {
      "cell_type": "markdown",
      "source": [
        "# **GitHub Link -** *italicized text*"
      ],
      "metadata": {
        "id": "ivIsL_1Z5Fko"
      }
    },
    {
      "cell_type": "markdown",
      "source": [
        "Provide your GitHub Link here.\n",
        "https://github.com/swapnilraher/-Zomoto-Restaurant-Clustering-and-Sentiment-Analysis"
      ],
      "metadata": {
        "id": "sS6Mct1q5P2h"
      }
    },
    {
      "cell_type": "markdown",
      "source": [
        "# **Problem Statement**\n",
        "\n",
        "Write Problem Statement Here.\n",
        "Zomato is an Indian restaurant aggregator and food delivery start-up founded by Deepinder Goyal and Pankaj Chaddah in 2008. Zomato provides information, menus and user-reviews of restaurants, and also has food delivery options from partner restaurants in select cities.\n",
        "\n",
        "India is quite famous for its diverse multi cuisine available in a large number of restaurants and hotel resorts, which is reminiscent of unity in diversity. Restaurant business in India is always evolving. More Indians are warming up to the idea of eating restaurant food whether by dining outside or getting food delivered. The growing number of restaurants in every state of India has been a motivation to inspect the data to get some insights, interesting facts and figures about the Indian food industry in each city. So, this project focuses on analysing the Zomato restaurant data for each city in India.\n",
        "\n",
        "The Project focuses on Customers and Company, you have to analyze the sentiments of the reviews given by the customer in the data and made some useful conclusion in the form of Visualizations. Also, cluster the zomato restaurants into different segments. The data is vizualized as it becomes easy to analyse data at instant. The Analysis also solve some of the business cases that can directly help the customers finding the Best restaurant in their locality and for the company to grow up and work on the fields they are currently lagging in.\n",
        "\n",
        "This could help in clustering the restaurants into segments. Also the data has valuable information around cuisine and costing which can be used in cost vs. benefit analysis\n",
        "\n",
        "Data could be used for sentiment analysis. Also the metadata of reviewers can be used for identifying the critics in the industry.\n"
      ],
      "metadata": {
        "id": "YtKI2NV64xEj"
      }
    },
    {
      "cell_type": "markdown",
      "source": [],
      "metadata": {
        "id": "7s4t5wlk5AK1"
      }
    },
    {
      "cell_type": "code",
      "source": [
        "from google.colab import drive\n",
        "drive.mount('/content/drive')"
      ],
      "metadata": {
        "id": "amtZEFYF5h1p"
      },
      "execution_count": null,
      "outputs": []
    },
    {
      "cell_type": "markdown",
      "source": [
        "# Attribute Information"
      ],
      "metadata": {
        "id": "yf9vLDqJ5tHp"
      }
    },
    {
      "cell_type": "markdown",
      "source": [
        "## **Zomato Restaurant names and Metadata**\n",
        "Use this dataset for clustering part"
      ],
      "metadata": {
        "id": "PCj_7r-v5yNR"
      }
    },
    {
      "cell_type": "markdown",
      "source": [
        "#Data Cleaning and Pre-Processing "
      ],
      "metadata": {
        "id": "_HoziGkx55mW"
      }
    },
    {
      "cell_type": "code",
      "source": [
        "# importing libraries and modules\n",
        "import numpy as np\n",
        "import pandas as pd\n",
        "import matplotlib.pyplot as plt\n",
        "import seaborn as sns\n",
        "%matplotlib inline\n",
        "from wordcloud import WordCloud"
      ],
      "metadata": {
        "id": "Il3GnIOn5-sQ"
      },
      "execution_count": null,
      "outputs": []
    },
    {
      "cell_type": "code",
      "source": [
        "#importing datasets\n",
        "meta_df_main=pd.read_csv(\"/content/drive/MyDrive/zomato clustering project/Zomato Restaurant names and Metadata.csv\")\n",
        "review_df=pd.read_csv(\"/content/drive/MyDrive/zomato clustering project/Zomato Restaurant reviews.csv\")"
      ],
      "metadata": {
        "id": "AA6gpRrr6HJC"
      },
      "execution_count": null,
      "outputs": []
    },
    {
      "cell_type": "code",
      "source": [
        "meta_df = meta_df_main.copy()"
      ],
      "metadata": {
        "id": "VXRenJB96SLZ"
      },
      "execution_count": null,
      "outputs": []
    },
    {
      "cell_type": "code",
      "source": [
        "meta_df.head()"
      ],
      "metadata": {
        "id": "V353tUW-7Ffy"
      },
      "execution_count": null,
      "outputs": []
    },
    {
      "cell_type": "code",
      "source": [
        "meta_df.tail()"
      ],
      "metadata": {
        "id": "aPo56gA_7Pkt"
      },
      "execution_count": null,
      "outputs": []
    },
    {
      "cell_type": "code",
      "source": [
        "meta_df.info()"
      ],
      "metadata": {
        "id": "8p_t9Vex7TIf"
      },
      "execution_count": null,
      "outputs": []
    },
    {
      "cell_type": "code",
      "source": [
        "meta_df.isnull().sum()"
      ],
      "metadata": {
        "id": "NMzDRtgs7WNm"
      },
      "execution_count": null,
      "outputs": []
    },
    {
      "cell_type": "code",
      "source": [
        "meta_df[meta_df['Collections'].isnull()].head()"
      ],
      "metadata": {
        "id": "3h448aHQ7dw8"
      },
      "execution_count": null,
      "outputs": []
    },
    {
      "cell_type": "code",
      "source": [
        "meta_df[meta_df['Timings'].isnull()]"
      ],
      "metadata": {
        "id": "GriIa_2t7hnF"
      },
      "execution_count": null,
      "outputs": []
    },
    {
      "cell_type": "code",
      "source": [
        "meta_df.describe()"
      ],
      "metadata": {
        "id": "rnBRBZBh7kwX"
      },
      "execution_count": null,
      "outputs": []
    },
    {
      "cell_type": "code",
      "source": [
        "# Checking duplicate rows in dataset\n",
        "meta_df.duplicated(keep='last').sum()"
      ],
      "metadata": {
        "id": "MBafPBQh7k9-"
      },
      "execution_count": null,
      "outputs": []
    },
    {
      "cell_type": "code",
      "source": [
        "# Checking duplicate restaurant name\n",
        "meta_df['Name'].duplicated().sum()"
      ],
      "metadata": {
        "id": "z3_1LhDV7xda"
      },
      "execution_count": null,
      "outputs": []
    },
    {
      "cell_type": "code",
      "source": [
        "# Changing cost function's data type\n",
        "meta_df['Cost'] =  meta_df['Cost'].str.replace(\",\",\"\").astype('int64')"
      ],
      "metadata": {
        "id": "u7pIuWP-71zk"
      },
      "execution_count": null,
      "outputs": []
    },
    {
      "cell_type": "markdown",
      "source": [
        "# EDA on MetaData Dataset"
      ],
      "metadata": {
        "id": "9gFzZ4r88Bq8"
      }
    },
    {
      "cell_type": "code",
      "source": [
        "# EDA on MetaData Dataset"
      ],
      "metadata": {
        "id": "iu3JyN_b8ATr"
      },
      "execution_count": null,
      "outputs": []
    }
  ]
}